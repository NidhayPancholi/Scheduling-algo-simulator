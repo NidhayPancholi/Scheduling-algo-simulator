{
  "nbformat": 4,
  "nbformat_minor": 0,
  "metadata": {
    "colab": {
      "name": "OS lab project",
      "provenance": [],
      "collapsed_sections": []
    },
    "kernelspec": {
      "display_name": "Python 3",
      "name": "python3"
    },
    "language_info": {
      "name": "python"
    }
  },
  "cells": [
    {
      "cell_type": "code",
      "metadata": {
        "colab": {
          "base_uri": "https://localhost:8080/"
        },
        "id": "G4H5h-xA6x2y",
        "outputId": "4e41a7b1-5d33-4b7a-da89-923bc3e64845"
      },
      "source": [
        "!pip install plotly --upgrade"
      ],
      "execution_count": 1,
      "outputs": [
        {
          "output_type": "stream",
          "name": "stdout",
          "text": [
            "Requirement already satisfied: plotly in /usr/local/lib/python3.7/dist-packages (4.4.1)\n",
            "Collecting plotly\n",
            "  Downloading plotly-5.3.1-py2.py3-none-any.whl (23.9 MB)\n",
            "\u001b[K     |████████████████████████████████| 23.9 MB 14 kB/s \n",
            "\u001b[?25hRequirement already satisfied: six in /usr/local/lib/python3.7/dist-packages (from plotly) (1.15.0)\n",
            "Collecting tenacity>=6.2.0\n",
            "  Downloading tenacity-8.0.1-py3-none-any.whl (24 kB)\n",
            "Installing collected packages: tenacity, plotly\n",
            "  Attempting uninstall: plotly\n",
            "    Found existing installation: plotly 4.4.1\n",
            "    Uninstalling plotly-4.4.1:\n",
            "      Successfully uninstalled plotly-4.4.1\n",
            "Successfully installed plotly-5.3.1 tenacity-8.0.1\n"
          ]
        }
      ]
    },
    {
      "cell_type": "code",
      "metadata": {
        "id": "ZhgcOzLPbqEH",
        "colab": {
          "base_uri": "https://localhost:8080/"
        },
        "outputId": "38bd4e3a-d8c2-456d-c7d6-6fb32347c474"
      },
      "source": [
        "!pip install streamlit -q"
      ],
      "execution_count": 2,
      "outputs": [
        {
          "output_type": "stream",
          "name": "stdout",
          "text": [
            "\u001b[K     |████████████████████████████████| 9.1 MB 4.4 MB/s \n",
            "\u001b[K     |████████████████████████████████| 4.3 MB 40.8 MB/s \n",
            "\u001b[K     |████████████████████████████████| 180 kB 56.5 MB/s \n",
            "\u001b[K     |████████████████████████████████| 111 kB 56.1 MB/s \n",
            "\u001b[K     |████████████████████████████████| 178 kB 56.2 MB/s \n",
            "\u001b[K     |████████████████████████████████| 76 kB 4.6 MB/s \n",
            "\u001b[K     |████████████████████████████████| 63 kB 1.6 MB/s \n",
            "\u001b[K     |████████████████████████████████| 125 kB 59.8 MB/s \n",
            "\u001b[K     |████████████████████████████████| 790 kB 38.3 MB/s \n",
            "\u001b[K     |████████████████████████████████| 374 kB 40.7 MB/s \n",
            "\u001b[?25h  Building wheel for pympler (setup.py) ... \u001b[?25l\u001b[?25hdone\n",
            "  Building wheel for blinker (setup.py) ... \u001b[?25l\u001b[?25hdone\n",
            "\u001b[31mERROR: pip's dependency resolver does not currently take into account all the packages that are installed. This behaviour is the source of the following dependency conflicts.\n",
            "jupyter-console 5.2.0 requires prompt-toolkit<2.0.0,>=1.0.0, but you have prompt-toolkit 3.0.22 which is incompatible.\n",
            "google-colab 1.0.0 requires ipykernel~=4.10, but you have ipykernel 6.5.0 which is incompatible.\n",
            "google-colab 1.0.0 requires ipython~=5.5.0, but you have ipython 7.29.0 which is incompatible.\u001b[0m\n"
          ]
        }
      ]
    },
    {
      "cell_type": "code",
      "metadata": {
        "colab": {
          "base_uri": "https://localhost:8080/"
        },
        "id": "ikgrSIGKdiIA",
        "outputId": "600b4a75-3ca4-4c3c-d5f5-b9990f80afee"
      },
      "source": [
        "!wget https://bin.equinox.io/c/4VmDzA7iaHb/ngrok-stable-linux-amd64.zip  \n",
        "!unzip -qq ngrok-stable-linux-amd64.zip"
      ],
      "execution_count": 4,
      "outputs": [
        {
          "output_type": "stream",
          "name": "stdout",
          "text": [
            "--2021-11-15 03:25:10--  https://bin.equinox.io/c/4VmDzA7iaHb/ngrok-stable-linux-amd64.zip\n",
            "Resolving bin.equinox.io (bin.equinox.io)... 18.205.222.128, 54.237.133.81, 54.161.241.46, ...\n",
            "Connecting to bin.equinox.io (bin.equinox.io)|18.205.222.128|:443... connected.\n",
            "HTTP request sent, awaiting response... 200 OK\n",
            "Length: 13832437 (13M) [application/octet-stream]\n",
            "Saving to: ‘ngrok-stable-linux-amd64.zip.1’\n",
            "\n",
            "ngrok-stable-linux- 100%[===================>]  13.19M  39.6MB/s    in 0.3s    \n",
            "\n",
            "2021-11-15 03:25:11 (39.6 MB/s) - ‘ngrok-stable-linux-amd64.zip.1’ saved [13832437/13832437]\n",
            "\n",
            "replace ngrok? [y]es, [n]o, [A]ll, [N]one, [r]ename: y\n"
          ]
        }
      ]
    },
    {
      "cell_type": "code",
      "metadata": {
        "colab": {
          "base_uri": "https://localhost:8080/"
        },
        "id": "IDz379M6dh_7",
        "outputId": "e3b0d326-8553-4af6-850c-6820701d5b98"
      },
      "source": [
        "get_ipython().system_raw('./ngrok http 8501 &')\n",
        "! curl -s http://localhost:4040/api/tunnels | python3 -c \\\n",
        "    \"import sys, json; print(json.load(sys.stdin)['tunnels'][0]['public_url'])\"\n",
        "\n",
        "#go to the link generated from this to see the dashboard"
      ],
      "execution_count": 6,
      "outputs": [
        {
          "output_type": "stream",
          "name": "stdout",
          "text": [
            "https://29ef-34-66-107-224.ngrok.io\n"
          ]
        }
      ]
    },
    {
      "cell_type": "markdown",
      "metadata": {
        "id": "uVmMnsmf7v62"
      },
      "source": [
        "1. create functions in this cell but don't edit app_layout\n",
        "2.  the input to function is a 2-d list where the first element is arrival time and second element is burst time.\n",
        "3. the function should return a list of dictionaries, \n",
        "\n",
        "4. check out below link,\n",
        "https://plotly.com/python/gantt/\n",
        "5. dictionary should have keys- Task,Start and End.\n",
        "6. use a variable time to keep track of the time at any point.\n"
      ]
    },
    {
      "cell_type": "code",
      "metadata": {
        "colab": {
          "base_uri": "https://localhost:8080/"
        },
        "id": "85slfwa64LKH",
        "outputId": "0047890f-a82d-48f7-f646-b655b9a3e96f"
      },
      "source": [
        "%%writefile app.py\n",
        "import streamlit as st\n",
        "import plotly.express as px\n",
        "import pandas as pd\n",
        "import time\n",
        "import numpy as np\n",
        "def turn_around_time(arrival,finish):\n",
        "  \"\"\"\n",
        "  Provide arrival time and finish time as array inputs returns \n",
        "  \"\"\"\n",
        "  turn_around_time=[]\n",
        "  for x in range(len(arrival)):\n",
        "    turn_around_time.append(finish[x]-arrival[x])\n",
        "  return turn_around_time\n",
        "\n",
        "def wait_time(turn_around,burst):\n",
        "  \"\"\"\n",
        "  provide array input and will produce array as output\n",
        "  \"\"\"\n",
        "  wait=[]\n",
        "  for x in range(len(burst)):\n",
        "    wait.append(turn_around[x]-burst[x])\n",
        "  return wait\n",
        "\n",
        "def make_dataframe(process,start,burst,finish,turn_around,wait):\n",
        "  \"\"\"\n",
        "  provide the arrays for all attributes and converted dataframe will be returned\n",
        "  \"\"\"\n",
        "  df=pd.DataFrame({\"Process\":process,'Arrival Time':start,\"Burst Time\":burst,'Completion Time':finish,'Turn Around Time':turn_around,'Waiting Time':wait}).sort_values(by ='Process' )\n",
        "  return df\n",
        "\n",
        "def fcfs(process):\n",
        "  time=0 #variable to keep track of time passed\n",
        "  gant=[] # arrAY TO STORE THE dictionaries to make the gaant chart\n",
        "  for x in process:\n",
        "    if x[1]>time:  \n",
        "      gant.append(dict(Task='Empty',Start=time,Finish=x[1])) #add if no process waiting \n",
        "      time=x[1] \n",
        "    gant.append(dict(Task=x[0],Start=time,Finish=time+x[2])) # add process to timeline \n",
        "    \n",
        "    time+=x[2] # new time= prev_time+burst time of process run\n",
        "  finish=[-1 for x in range(len(process))] \n",
        "  arrival=[]\n",
        "  burst=[]\n",
        "  process_names=[]\n",
        "  for x in process:\n",
        "    process_names.append(x[0])\n",
        "    arrival.append(x[1])\n",
        "    burst.append(x[2])\n",
        "  for x in gant:\n",
        "    if x[\"Task\"]=='Empty':\n",
        "      continue\n",
        "    s=process_names.index(x['Task'])\n",
        "    finish[s]=x['Finish']\n",
        "  turn_around=turn_around_time(arrival,finish)\n",
        "  wait=wait_time(turn_around,burst)\n",
        "  df=make_dataframe(process_names,arrival,burst,finish,turn_around,wait)    \n",
        "  return gant,df #return gantt chart and the dataframe \n",
        "\n",
        "\n",
        "def sjf(process):\n",
        "  time=0 #cPU time\n",
        "  gant=[]\n",
        "  queue=[]\n",
        "  finish=[-1 for z in range(len(process))] \n",
        "  arrival=[]\n",
        "  burst=[]\n",
        "  process_names=[]\n",
        "  for x in process:\n",
        "    process_names.append(x[0])\n",
        "    arrival.append(x[1])\n",
        "    burst.append(x[2])\n",
        "\n",
        "\n",
        "  while process or queue:\n",
        "    if len(queue)==0:\n",
        "      queue.append(process.pop(0))\n",
        "      if queue[0][1]>time:\n",
        "        gant.append(dict(Task='Empty',Start=time,Finish=queue[0][1],Priority=0))\n",
        "        time=queue[0][1]\n",
        "    if process:\n",
        "      while process[0][1]==time:\n",
        "        queue.append(process.pop(0))\n",
        "    queue.sort(key= lambda x: x[2])\n",
        "    temp=queue.pop(0)\n",
        "    gant.append(dict(Task=temp[0],Start=time,Finish=time+temp[2]))\n",
        "    time+=temp[2]\n",
        "    if process:\n",
        "      while process[0][1]<=time:\n",
        "        queue.append(process.pop(0))\n",
        "        if not process:\n",
        "          break\n",
        "\n",
        "  \n",
        "  temp=[]\n",
        "  for x in gant[::-1]:\n",
        "    if x['Task']!=\"Empty\" and x['Task'] not in temp:\n",
        "      temp.append(x['Task'])\n",
        "      s=process_names.index(x['Task'])\n",
        "      finish[s]=x['Finish']\n",
        "  turn_around=turn_around_time(arrival,finish)\n",
        "  wait=wait_time(turn_around,burst)\n",
        "  df=make_dataframe(process_names,arrival,burst,finish,turn_around,wait)    \n",
        "  return gant,df\n",
        "\n",
        "def priority_scheduling(process):\n",
        "  time=0\n",
        "  queue=[]\n",
        "  gant=[]\n",
        "  arrival=[]\n",
        "  process_name=[]\n",
        "  finish=[-1 for x in range(len(process))]\n",
        "  burst=[]\n",
        "  for x in process:\n",
        "    arrival.append(x[1])\n",
        "    burst.append(x[2])\n",
        "    process_name.append(x[0])\n",
        "  while len(process)!=0 or len(queue)!=0:\n",
        "    if len(queue)==0:\n",
        "      queue.append(process.pop(0))\n",
        "      if queue[0][1]>time:\n",
        "        gant.append(dict(Task='Empty',Start=time,Finish=queue[0][1],Priority=0))\n",
        "        time=queue[0][1]\n",
        "    if process:\n",
        "      while process[0][1]==time:\n",
        "        queue.append(process.pop(0))\n",
        "      \n",
        "    queue.sort(key= lambda x:(x[3],x[0]))\n",
        "    temp=queue.pop()\n",
        "    gant.append(dict(Task=temp[0],Start=time,Finish=time+temp[2],Priority=temp[3]))\n",
        "    time+=temp[2]\n",
        "    if process:\n",
        "      while process[0][1]<=time:\n",
        "        queue.append(process.pop(0))\n",
        "        if not process:\n",
        "          break\n",
        "  \n",
        "  temp=[]\n",
        "  for x in gant[::-1]:\n",
        "    if x['Task']!=\"Empty\" and x['Task'] not in temp:\n",
        "      temp.append(x['Task'])\n",
        "      s=process_name.index(x['Task'])\n",
        "      finish[s]=x['Finish']\n",
        "  turn_around=turn_around_time(arrival,finish)\n",
        "  wait=wait_time(turn_around,burst)\n",
        "  df=make_dataframe(process_name,arrival,burst,finish,turn_around,wait)\n",
        "  return gant,df\n",
        "    \n",
        "\n",
        "def round_robin(pro,time_quanta):\n",
        "  temp_process=pro.copy()\n",
        "  time=0\n",
        "  queue=[]\n",
        "  gant=[]\n",
        "  arrival=[]\n",
        "  process_name=[]\n",
        "  finish=[-1 for x in range(len(temp_process))]\n",
        "  burst=[]\n",
        "  for x in pro:\n",
        "    arrival.append(x[1])\n",
        "    burst.append(x[2])\n",
        "    process_name.append(x[0])\n",
        "  while len(temp_process)!=0 or len(queue)!=0:\n",
        "    if len(queue)==0: #no proccesse have arrived on given cpu time\n",
        "      queue.append(temp_process.pop(0)) # adding the first process that arrives \n",
        "      if queue[0][1]>time:  #if it's arrival time is larger than cpu_time then CPU will be empty from time to arrival_time of process\n",
        "        gant.append(dict(Task='Empty',Start=time,Finish=queue[0][1]))\n",
        "        time=queue[0][1]\n",
        "    temp=queue.pop(0)\n",
        "    if temp[2]<=time_quanta:\n",
        "      gant.append(dict(Task=temp[0],Start=time,Finish=time+temp[2]))\n",
        "      time+=temp[2]\n",
        "      temp[2]=0\n",
        "    else:\n",
        "      gant.append(dict(Task=temp[0],Start=time,Finish=time+time_quanta))\n",
        "      time+=time_quanta\n",
        "      temp[2]-=time_quanta\n",
        "    for x in temp_process:\n",
        "      if x[1]<=time:\n",
        "        queue.append(temp_process.pop(0))\n",
        "    if temp[2]!=0:\n",
        "      queue.append(temp)\n",
        "  temp=[]\n",
        "  for x in gant[::-1]:\n",
        "    if x['Task']!=\"Empty\" and x['Task'] not in temp:\n",
        "      temp.append(x['Task'])\n",
        "      s=process_name.index(x['Task'])\n",
        "      finish[s]=x['Finish']\n",
        "  turn_around=turn_around_time(arrival,finish)\n",
        "  wait=wait_time(turn_around,burst)\n",
        "  df=make_dataframe(process_name,arrival,burst,finish,turn_around,wait)\n",
        "  return gant,df\n",
        "\n",
        "\n",
        "\n",
        "def make_gantt_chart(process,algo,time_quanta):\n",
        "  process.sort(key =lambda x:x[1]) #sorting process by arrival time\n",
        "  if algo=='FCFS':\n",
        "    gantt,details=fcfs(process)\n",
        "  elif algo=='SJF':\n",
        "    gantt,details=sjf(process)\n",
        "  elif algo=='Priority Scheduling':\n",
        "    gantt,details=priority_scheduling(process)\n",
        "  else: \n",
        "    gantt,details=round_robin(process,time_quanta)\n",
        "  #gantt is a list of dictionaries \n",
        "  gantt.sort(key = lambda gantt: gantt['Task'])\n",
        "  fig = px.timeline(gantt, x_start=\"Start\", x_end=\"Finish\", y=\"Task\") \n",
        "  fig.update_yaxes(autorange=\"reversed\") \n",
        "  fig.layout.xaxis.type = 'linear'\n",
        "  delta=[] # to plot integers instead of dates on x-axis\n",
        "  for x  in gantt:\n",
        "    delta.append(x['Finish']-x['Start'])\n",
        "  fig.data[0].x = delta  \n",
        "  return fig,details\n",
        "\n",
        "\n",
        "def app_layout():\n",
        "  algorithms=['FCFS', 'SJF', 'Round Robin',\"Priority Scheduling\"]\n",
        "  st.set_page_config(layout=\"wide\")\n",
        "  st.title(\"CPU Scheduling Algorithms\")\n",
        "  algo=st.multiselect( 'Select Algorithm',options=algorithms,default=\"FCFS\")  # Choose the algorithm\n",
        "  time_quanta=0 # a variable to store time_quantum for round robin\n",
        "  if 'FCFS' in algo:\n",
        "    st.subheader(\"FCFS\")\n",
        "    st.write(\"FCFS is an operating system scheduling algorithm that executes queued request and processes arrives in their order. The name itself suggest that the process which arrive first gets executed first. The process which request the CPU first, get the CPU allocation first. Usually it is managed by FIFO queue. It is simplest form of CPU scheduling algorithm.\")\n",
        "    st.subheader(\"Advantages\")\n",
        "    st.write(\"It supports non-preemptive and pre-emptive scheduling algorithm. It is easy to implement and use.\")\n",
        "    st.subheader(\"DisAdvantages\")\n",
        "    st.write(\"The average waiting time is very high. There is no ideal technique for time-sharing systems. It is not very efficient.\")\n",
        "  if 'SJF'in algo:\n",
        "    st.subheader(\"SJF\")\n",
        "    st.write(\"SJF scheduling algorithm, schedules the processes according to their burst time. The process having the smallest execution time is chosen for the next execution. It reduces the average waiting time for other processes awaiting execution. It is associated with each job as a unit of time to complete.It can improve process throughput by making sure that shorter jobs are executed first, hence possibly have a short turnaround time.\")\n",
        "    st.subheader(\"Advantages\")\n",
        "    st.write(\"Works for both preemptive and non-preemptive.Frequently used for long term scheduling.Reduces The average waiting time over FIFO algorithm.This method is helpful for batch-type processing, where waiting for jobs to complete is not critical.Optimal with regard to average turn around time.\")\n",
        "    st.subheader(\"DisAdvantages\")\n",
        "    st.write(\"SJF can’t be implemented for CPU scheduling for the short term. It is because there is no specific method to predict the length of the upcoming CPU burst.Requires knowledge of how long a process or job will run.It leads to the starvation that does not reduce average turnaround time.It is hard to know the length of the upcoming CPU request.\")\n",
        "  if 'Round Robin' in algo:\n",
        "    st.subheader(\"Round Robin\")\n",
        "    st.write(\"RR is a CPU scheduling algorithm where each process is assigned a fixed time slot in a cyclic way, where each process gets equal share in time processing. RR is a hybrid model which is clock-driven. In this, CPU is shifted to the next process after fixed interval time, which is called time quantum/time slice. Time slice should be minimum, which is assigned for a specific task that needs to be processed. However, it may differ OS to OS.\")\n",
        "    st.subheader(\"Advantages\")\n",
        "    st.write(\"A round-robin scheduler generally employs time-sharing, giving each job a time slot or quantum. Each process get a chance to reschedule after a particular quantum time in this scheduling. All the jobs get a fair allocation of CPU.It deals with all process without any priority.This scheduling method does not depend upon burst time. That’s why it is easily implementable on the system.It gives the best performance in terms of average response time.\")\n",
        "    st.subheader(\"DisAdvantages\")\n",
        "    st.write(\"Gantt chart seems to come too big (if quantum time is less for scheduling.For Example:1 ms for big scheduling.)There is low throughput and context switches.Lower time quantum results in higher the context switching overhead in the system.Finding a correct time quantum is a quite difficult task in this system.If slicing time of OS is low, the processor output will be reduced.\")\n",
        "    time_quanta=st.number_input(label=\"Time Quantum\",min_value=1, max_value=10,step=1,key=\"RR_quantum\") #input for time quantum\n",
        "  \n",
        "  #the process is limited to 8 because otherwise the integers are not visible in the input box\n",
        "  num = st.number_input('Number of processes', min_value=1, max_value=8, value=5, step=1) #choose number of process\n",
        "  process=[] # array to store data  about the processes\n",
        "  \n",
        "  cols=st.columns(num) #creating columns for input\n",
        "  #might change column structure later so that input for more process can be taken\n",
        "  for i,x in enumerate(cols):\n",
        "    with x:\n",
        "      st.write('Process {}'.format(i))\n",
        "      temp=['P{}'.format(i),0,0]\n",
        "      temp[1]=st.number_input(label=\"Arrival Time\",min_value=0, max_value=100, value=i, step=1,key=\"AT{}\".format(i))\n",
        "      temp[2]=st.number_input(label=\"Burst Time\",min_value=1, max_value=100, value=i+1, step=1,key=\"BT{}\".format(i))\n",
        "      if 'Priority Scheduling' in algo:\n",
        "        temp.append(st.number_input(label=\"Priority\",min_value=1, max_value=10, value=i+1, step=1,key=\"Priority{}\".format(i)))\n",
        "      process.append(temp)\n",
        "  # code will execute when the below button is prsses to avoid to much processing as streamlit reloads whenever any input value changes\n",
        "  \n",
        "\n",
        "  submit=st.button(label='Execute')\n",
        "  if submit:\n",
        "    for algorithm in algo:\n",
        "      st.title(algorithm)\n",
        "      pro=process.copy()\n",
        "      #details contains the info such as AT,BT,TAT,WT\n",
        "      #timeline is a gantt chart for all processes\n",
        "      timeline,details=make_gantt_chart(pro,algorithm,time_quanta) \n",
        "      col1,col2=st.columns(2)\n",
        "      with col1:\n",
        "        st.write(\"Scheduling result\")\n",
        "        st.write(details)\n",
        "      with col2:\n",
        "        st.write(\"Gantt Chart\")\n",
        "        st.plotly_chart(timeline)          \n",
        "      col1,col2=st.columns(2)\n",
        "      col1.metric(label=\"Average Turn Around Time\", value=round(details['Turn Around Time'].mean(),2))\n",
        "      col2.metric(label='Average waiting time',value=round(details['Waiting Time'].mean(),2))\n",
        "      \n",
        "\n",
        "if __name__=='__main__':\n",
        "  app_layout()\n"
      ],
      "execution_count": 7,
      "outputs": [
        {
          "output_type": "stream",
          "name": "stdout",
          "text": [
            "Writing app.py\n"
          ]
        }
      ]
    },
    {
      "cell_type": "code",
      "metadata": {
        "colab": {
          "base_uri": "https://localhost:8080/"
        },
        "id": "WCoYxB9kdBAY",
        "outputId": "071ba8f7-5f56-46c1-8ca7-4bfa4c64cddf"
      },
      "source": [
        "!streamlit run app.py"
      ],
      "execution_count": null,
      "outputs": [
        {
          "metadata": {
            "tags": null
          },
          "name": "stdout",
          "output_type": "stream",
          "text": [
            "\u001b[0m\n",
            "\u001b[34m\u001b[1m  You can now view your Streamlit app in your browser.\u001b[0m\n",
            "\u001b[0m\n",
            "\u001b[34m  Network URL: \u001b[0m\u001b[1mhttp://172.28.0.2:8501\u001b[0m\n",
            "\u001b[34m  External URL: \u001b[0m\u001b[1mhttp://34.66.107.224:8501\u001b[0m\n",
            "\u001b[0m\n"
          ]
        }
      ]
    },
    {
      "cell_type": "code",
      "metadata": {
        "id": "GJelTZvuZbVA"
      },
      "source": [
        ""
      ],
      "execution_count": null,
      "outputs": []
    }
  ]
}